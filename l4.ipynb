{
 "cells": [
  {
   "cell_type": "markdown",
   "id": "675db493",
   "metadata": {},
   "source": [
    " # Iteration 4 BDAS  \n",
    " Name: Chenchen Ning  \n",
    " UPI: nche891  \n",
    " ID: 529520409"
   ]
  },
  {
   "cell_type": "code",
   "execution_count": 1,
   "id": "57bb5e80",
   "metadata": {},
   "outputs": [
    {
     "name": "stderr",
     "output_type": "stream",
     "text": [
      "WARNING: An illegal reflective access operation has occurred\n",
      "WARNING: Illegal reflective access by org.apache.spark.unsafe.Platform (file:/home/ubuntu/spark-3.2.1-bin-hadoop2.7/jars/spark-unsafe_2.12-3.2.1.jar) to constructor java.nio.DirectByteBuffer(long,int)\n",
      "WARNING: Please consider reporting this to the maintainers of org.apache.spark.unsafe.Platform\n",
      "WARNING: Use --illegal-access=warn to enable warnings of further illegal reflective access operations\n",
      "WARNING: All illegal access operations will be denied in a future release\n",
      "Using Spark's default log4j profile: org/apache/spark/log4j-defaults.properties\n",
      "Setting default log level to \"WARN\".\n",
      "To adjust logging level use sc.setLogLevel(newLevel). For SparkR, use setLogLevel(newLevel).\n",
      "23/10/12 17:20:37 WARN NativeCodeLoader: Unable to load native-hadoop library for your platform... using builtin-java classes where applicable\n"
     ]
    }
   ],
   "source": [
    "# Must be included at the beginning of each new notebook. Remember to change the app name.\n",
    "import findspark\n",
    "findspark.init('/home/ubuntu/spark-3.2.1-bin-hadoop2.7')\n",
    "import pyspark\n",
    "from pyspark.sql import SparkSession\n",
    "spark = SparkSession.builder.appName('nche').getOrCreate()"
   ]
  },
  {
   "cell_type": "markdown",
   "id": "defffb19",
   "metadata": {},
   "source": [
    "## 2. Data Understanding  "
   ]
  },
  {
   "cell_type": "code",
   "execution_count": 2,
   "id": "b7f3b0ce",
   "metadata": {},
   "outputs": [],
   "source": [
    "df_full = spark.read.csv('insurance_dataset.csv', header=True)\n",
    "df_infor = spark.read.csv('information.csv', header=True)\n",
    "df_srw = spark.read.csv('insurance_dataset - srw.csv', header=True)"
   ]
  },
  {
   "cell_type": "code",
   "execution_count": 3,
   "id": "910e5f11",
   "metadata": {},
   "outputs": [
    {
     "name": "stderr",
     "output_type": "stream",
     "text": [
      "[Stage 3:=============================>                             (1 + 1) / 2]\r"
     ]
    },
    {
     "name": "stdout",
     "output_type": "stream",
     "text": [
      "+-------+-----------------+------------------+------+---------+------------+------------------+------------------+\n",
      "|summary|               ID|               age|gender|   region|  occupation|          children|           charges|\n",
      "+-------+-----------------+------------------+------+---------+------------+------------------+------------------+\n",
      "|  count|          1000000|            998351|998938|   997609|      999453|            999738|            988781|\n",
      "|   mean|         500000.5| 41.49526068486935|  null|     null|        null|2.4998739669793486|16735.537051179243|\n",
      "| stddev|288675.2789323441|13.855406150208992|  null|     null|        null|1.7077023912851712| 4415.953938577777|\n",
      "|    min|                1|                18|female|northeast| Blue collar|                 0|       10000.24603|\n",
      "|    max|           999999|                65|  male|southwest|White collar|                 5|       9999.986961|\n",
      "+-------+-----------------+------------------+------+---------+------------+------------------+------------------+\n",
      "\n"
     ]
    },
    {
     "name": "stderr",
     "output_type": "stream",
     "text": [
      "\r",
      "                                                                                \r"
     ]
    }
   ],
   "source": [
    "df_infor.describe().show()"
   ]
  },
  {
   "cell_type": "code",
   "execution_count": 4,
   "id": "26efe4ed",
   "metadata": {},
   "outputs": [
    {
     "name": "stderr",
     "output_type": "stream",
     "text": [
      "[Stage 6:=============================>                             (1 + 1) / 2]\r"
     ]
    },
    {
     "name": "stdout",
     "output_type": "stream",
     "text": [
      "+-------+-----------------+------------------+------+---------------+----------------------+------------------+--------------+-----------------+\n",
      "|summary|               ID|               bmi|smoker|medical_history|family_medical_history|exercise_frequency|coverage_level|          charges|\n",
      "+-------+-----------------+------------------+------+---------------+----------------------+------------------+--------------+-----------------+\n",
      "|  count|           121691|            119573|121656|         121565|                121660|            120744|        121575|           120366|\n",
      "|   mean|          60846.0| 35.30678656552924|  null|           null|                  null|              null|          null|16720.85270589389|\n",
      "| stddev|35129.31014124815|12.967867611316075|  null|           null|                  null|              null|          null|4416.026055203434|\n",
      "|    min|                1|               100|    no|       Diabetes|              Diabetes|        Frequently|         Basic|      10000.43184|\n",
      "|    max|            99999|                50|   yes|           None|                  None|            Rarely|      Standard|      9999.986961|\n",
      "+-------+-----------------+------------------+------+---------------+----------------------+------------------+--------------+-----------------+\n",
      "\n"
     ]
    },
    {
     "name": "stderr",
     "output_type": "stream",
     "text": [
      "\r",
      "                                                                                \r"
     ]
    }
   ],
   "source": [
    "df_srw.describe().show()"
   ]
  },
  {
   "cell_type": "markdown",
   "id": "415f2fc1",
   "metadata": {},
   "source": [
    "### Data Visulization"
   ]
  },
  {
   "cell_type": "code",
   "execution_count": 5,
   "id": "f5c1e2fe",
   "metadata": {},
   "outputs": [],
   "source": [
    "import numpy as np\n",
    "import matplotlib.pyplot as plt"
   ]
  },
  {
   "cell_type": "code",
   "execution_count": 6,
   "id": "a85d31a2",
   "metadata": {},
   "outputs": [],
   "source": [
    "def draw_categorical(df, feature):\n",
    "    # Convert sex to an array using Numpy and plot it using pyplot. \n",
    "    df_cleaned = df.dropna(subset=[feature])\n",
    "    # Convert the 'gender' column to a NumPy array\n",
    "    a = np.array(df_cleaned.select(feature).collect())\n",
    "    plt.hist(a)\n",
    "    plt.show()\n",
    "\n",
    "def draw_numerical(df, feature):\n",
    "    df = df.toPandas()\n",
    "    #df[feature] = df[feature].round()\n",
    "    type_counts = df[feature].value_counts()\n",
    "    type_counts = type_counts.drop(type_counts.index[-1])\n",
    "    # Create a bar chart\n",
    "    plt.bar(type_counts.index, type_counts.values, color=['lightblue', 'pink'])\n",
    "    #add text above the bar\n",
    "\n",
    "    plt.xlabel('bmi')\n",
    "    plt.ylabel('Counts')\n",
    "    plt.title('Distribution of bmi')\n",
    "    plt.show()\n",
    "\n",
    "def charge_feature_relation_c(df, feature):\n",
    "    grouped_data = df.groupby(feature)['charges'].sum().reset_index()\n",
    "\n",
    "    # Create a bar chart\n",
    "    plt.bar(grouped_data['bmi'], grouped_data['charges'], color='lightblue')\n",
    "\n",
    "    # Add labels and title\n",
    "    plt.xlabel('bmi')\n",
    "    plt.ylabel('charges')\n",
    "    plt.title('Relationship between bmi and insurance charges')\n",
    "\n",
    "    # Show the chart\n",
    "    plt.show()\n",
    "    # The relationship between this feature and insurance charges\n",
    "    plt.bar(df['charges'], df[feature], color=['lightblue', 'pink'])\n",
    "\n",
    "def charge_featue_relation_n(df, feature):\n",
    "    grouped = df.groupby(feature)['charges'].sum().reset_index()\n",
    "    grouped = grouped.iloc[:-1]\n",
    "    plt.figure(figsize=(10, 6))\n",
    "    plt.plot(grouped['bmi'], grouped['charges'], linestyle='-', color='skyblue', markersize=8, linewidth=2)\n",
    "    plt.xlabel('BMI')\n",
    "    plt.ylabel('Total Charges')\n",
    "    plt.title('Total Charges by BMI')\n",
    "    plt.grid(linestyle='--', alpha=0.7)\n",
    "\n",
    "    plt.show()"
   ]
  },
  {
   "cell_type": "code",
   "execution_count": 7,
   "id": "06cb8785",
   "metadata": {},
   "outputs": [
    {
     "name": "stderr",
     "output_type": "stream",
     "text": [
      "                                                                                \r"
     ]
    },
    {
     "data": {
      "image/png": "[encoded data removed]",
      "text/plain": [
       "<Figure size 432x288 with 1 Axes>"
      ]
     },
     "metadata": {
      "needs_background": "light"
     },
     "output_type": "display_data"
    }
   ],
   "source": [
    "draw_categorical(df_infor, 'gender')"
   ]
  },
  {
   "cell_type": "code",
   "execution_count": 8,
   "id": "a12159a2",
   "metadata": {},
   "outputs": [
    {
     "name": "stderr",
     "output_type": "stream",
     "text": [
      "                                                                                \r"
     ]
    },
    {
     "data": {
      "image/png": "[encoded data removed]",
      "text/plain": [
       "<Figure size 432x288 with 1 Axes>"
      ]
     },
     "metadata": {
      "needs_background": "light"
     },
     "output_type": "display_data"
    }
   ],
   "source": [
    "draw_numerical(df_full, 'age') \n"
   ]
  },
  {
   "cell_type": "code",
   "execution_count": 9,
   "id": "a48b10be",
   "metadata": {},
   "outputs": [
    {
     "name": "stderr",
     "output_type": "stream",
     "text": [
      "                                                                                \r"
     ]
    },
    {
     "data": {
      "image/png": "[encoded data removed]",
      "text/plain": [
       "<Figure size 432x288 with 1 Axes>"
      ]
     },
     "metadata": {
      "needs_background": "light"
     },
     "output_type": "display_data"
    }
   ],
   "source": [
    "draw_numerical(df_full, 'bmi') "
   ]
  },
  {
   "cell_type": "code",
   "execution_count": 9,
   "id": "df223cf5",
   "metadata": {},
   "outputs": [
    {
     "name": "stderr",
     "output_type": "stream",
     "text": [
      "                                                                                \r"
     ]
    },
    {
     "data": {
      "image/png": "[encoded data removed]",
      "text/plain": [
       "<Figure size 432x288 with 1 Axes>"
      ]
     },
     "metadata": {
      "needs_background": "light"
     },
     "output_type": "display_data"
    }
   ],
   "source": [
    "draw_categorical(df_infor, 'region')"
   ]
  },
  {
   "cell_type": "code",
   "execution_count": 10,
   "id": "aba52327",
   "metadata": {},
   "outputs": [
    {
     "name": "stderr",
     "output_type": "stream",
     "text": [
      "                                                                                \r"
     ]
    },
    {
     "data": {
      "image/png": "[encoded data removed]",
      "text/plain": [
       "<Figure size 432x288 with 1 Axes>"
      ]
     },
     "metadata": {
      "needs_background": "light"
     },
     "output_type": "display_data"
    }
   ],
   "source": [
    "draw_categorical(df_infor, 'occupation')"
   ]
  },
  {
   "cell_type": "code",
   "execution_count": 11,
   "id": "048f4902",
   "metadata": {},
   "outputs": [
    {
     "name": "stderr",
     "output_type": "stream",
     "text": [
      "                                                                                \r"
     ]
    },
    {
     "data": {
      "image/png": "[encoded data removed]",
      "text/plain": [
       "<Figure size 432x288 with 1 Axes>"
      ]
     },
     "metadata": {
      "needs_background": "light"
     },
     "output_type": "display_data"
    }
   ],
   "source": [
    "draw_categorical(df_infor, 'children')"
   ]
  },
  {
   "cell_type": "code",
   "execution_count": 12,
   "id": "0b96a37f",
   "metadata": {},
   "outputs": [
    {
     "data": {
      "image/png": "[encoded data removed]",
      "text/plain": [
       "<Figure size 432x288 with 1 Axes>"
      ]
     },
     "metadata": {
      "needs_background": "light"
     },
     "output_type": "display_data"
    },
    {
     "data": {
      "image/png": "[encoded data removed]",
      "text/plain": [
       "<Figure size 432x288 with 1 Axes>"
      ]
     },
     "metadata": {
      "needs_background": "light"
     },
     "output_type": "display_data"
    },
    {
     "data": {
      "image/png": "[encoded data removed]",
      "text/plain": [
       "<Figure size 432x288 with 1 Axes>"
      ]
     },
     "metadata": {
      "needs_background": "light"
     },
     "output_type": "display_data"
    }
   ],
   "source": [
    "draw_categorical(df_srw, 'smoker')\n",
    "draw_categorical(df_srw, 'medical_history')\n",
    "draw_categorical(df_srw, 'family_medical_history')"
   ]
  },
  {
   "cell_type": "code",
   "execution_count": 15,
   "id": "5903a309",
   "metadata": {},
   "outputs": [
    {
     "data": {
      "image/png": "[encoded data removed]",
      "text/plain": [
       "<Figure size 432x288 with 1 Axes>"
      ]
     },
     "metadata": {
      "needs_background": "light"
     },
     "output_type": "display_data"
    }
   ],
   "source": [
    "draw_categorical(df_srw, 'coverage_level')"
   ]
  },
  {
   "cell_type": "code",
   "execution_count": 17,
   "id": "7e1133fc",
   "metadata": {},
   "outputs": [
    {
     "data": {
      "image/png": "[encoded data removed]",
      "text/plain": [
       "<Figure size 432x288 with 1 Axes>"
      ]
     },
     "metadata": {
      "needs_background": "light"
     },
     "output_type": "display_data"
    }
   ],
   "source": [
    "draw_categorical(df_srw, 'exercise_frequency')"
   ]
  },
  {
   "cell_type": "markdown",
   "id": "37d9a8ab",
   "metadata": {},
   "source": [
    "## Vertify the data quanlity"
   ]
  },
  {
   "cell_type": "code",
   "execution_count": 4,
   "id": "21214617",
   "metadata": {},
   "outputs": [
    {
     "data": {
      "text/plain": [
       "[('ID', 'string'),\n",
       " ('bmi', 'string'),\n",
       " ('smoker', 'string'),\n",
       " ('medical_history', 'string'),\n",
       " ('family_medical_history', 'string'),\n",
       " ('exercise_frequency', 'string'),\n",
       " ('coverage_level', 'string'),\n",
       " ('charges', 'string')]"
      ]
     },
     "execution_count": 4,
     "metadata": {},
     "output_type": "execute_result"
    }
   ],
   "source": [
    "df_srw.dtypes"
   ]
  },
  {
   "cell_type": "code",
   "execution_count": 5,
   "id": "e5bec24d",
   "metadata": {},
   "outputs": [
    {
     "data": {
      "text/plain": [
       "[('ID', 'string'),\n",
       " ('age', 'string'),\n",
       " ('gender', 'string'),\n",
       " ('region', 'string'),\n",
       " ('occupation', 'string'),\n",
       " ('children', 'string'),\n",
       " ('charges', 'string')]"
      ]
     },
     "execution_count": 5,
     "metadata": {},
     "output_type": "execute_result"
    }
   ],
   "source": [
    "df_infor.dtypes"
   ]
  },
  {
   "cell_type": "markdown",
   "id": "ae3f1690",
   "metadata": {},
   "source": [
    "# 3. Data Prepration"
   ]
  },
  {
   "cell_type": "code",
   "execution_count": 5,
   "id": "30011bf9",
   "metadata": {},
   "outputs": [
    {
     "name": "stderr",
     "output_type": "stream",
     "text": [
      "\r",
      "[Stage 9:>                                                          (0 + 2) / 2]\r",
      "\r",
      "[Stage 9:=============================>                             (1 + 1) / 2]\r"
     ]
    },
    {
     "name": "stdout",
     "output_type": "stream",
     "text": [
      "+---+----+------+---------------+----------------------+------------------+--------------+-------+\n",
      "| ID| bmi|smoker|medical_history|family_medical_history|exercise_frequency|coverage_level|charges|\n",
      "+---+----+------+---------------+----------------------+------------------+--------------+-------+\n",
      "|  0|2118|    35|          30516|                 30668|               947|           116|   1325|\n",
      "+---+----+------+---------------+----------------------+------------------+--------------+-------+\n",
      "\n"
     ]
    },
    {
     "name": "stderr",
     "output_type": "stream",
     "text": [
      "\r",
      "                                                                                \r"
     ]
    }
   ],
   "source": [
    "from pyspark.sql.functions import col, isnan, when, count\n",
    "df_srw.select([count(when(col(c).contains('None')|col(c).contains('NULL')|(col(c)=='')|(col(c)=='NA')|\\\n",
    "              col(c).isNull()|isnan(c), c)).alias(c)for c in df_srw.columns]).show()"
   ]
  },
  {
   "cell_type": "code",
   "execution_count": 6,
   "id": "ea416b3e",
   "metadata": {},
   "outputs": [
    {
     "name": "stderr",
     "output_type": "stream",
     "text": [
      "[Stage 12:=============================>                            (1 + 1) / 2]\r"
     ]
    },
    {
     "name": "stdout",
     "output_type": "stream",
     "text": [
      "+---+----+------+------+----------+--------+-------+\n",
      "| ID| age|gender|region|occupation|children|charges|\n",
      "+---+----+------+------+----------+--------+-------+\n",
      "|  0|1649|  1062|  2391|       547|     262|  11219|\n",
      "+---+----+------+------+----------+--------+-------+\n",
      "\n"
     ]
    },
    {
     "name": "stderr",
     "output_type": "stream",
     "text": [
      "\r",
      "                                                                                \r"
     ]
    }
   ],
   "source": [
    "df_infor.select([count(when(col(c).contains('None')|col(c).contains('NULL')|(col(c)=='')|(col(c)=='NA')|\\\n",
    "              col(c).isNull()|isnan(c), c)).alias(c)for c in df_infor.columns]).show()"
   ]
  },
  {
   "cell_type": "code",
   "execution_count": 7,
   "id": "8d000028",
   "metadata": {},
   "outputs": [
    {
     "name": "stderr",
     "output_type": "stream",
     "text": [
      "[Stage 15:=============================>                            (1 + 1) / 2]\r"
     ]
    },
    {
     "name": "stdout",
     "output_type": "stream",
     "text": [
      "+---+------+---+--------+------+------+---------------+----------------------+------------------+----------+--------------+-------+\n",
      "|age|gender|bmi|children|smoker|region|medical_history|family_medical_history|exercise_frequency|occupation|coverage_level|charges|\n",
      "+---+------+---+--------+------+------+---------------+----------------------+------------------+----------+--------------+-------+\n",
      "|  0|     0|  0|       0|     0|     0|         250762|                250404|                 0|         0|             0|      0|\n",
      "+---+------+---+--------+------+------+---------------+----------------------+------------------+----------+--------------+-------+\n",
      "\n"
     ]
    },
    {
     "name": "stderr",
     "output_type": "stream",
     "text": [
      "\r",
      "                                                                                \r"
     ]
    }
   ],
   "source": [
    "df_full.select([count(when(col(c).contains('None')|col(c).contains('NULL')|(col(c)=='')|(col(c)=='NA')|\\\n",
    "              col(c).isNull()|isnan(c), c)).alias(c)for c in df_full.columns]).show()"
   ]
  },
  {
   "cell_type": "code",
   "execution_count": 8,
   "id": "4dc83f10",
   "metadata": {},
   "outputs": [
    {
     "name": "stdout",
     "output_type": "stream",
     "text": [
      "+---+---+------+-------------------+----------------------+--------------+-----------+\n",
      "| ID|bmi|smoker|    medical_history|family_medical_history|coverage_level|    charges|\n",
      "+---+---+------+-------------------+----------------------+--------------+-----------+\n",
      "|  1|100|    no|               None|              Diabetes|         Basic| 10390.1624|\n",
      "|  2|100|    no|      Heart disease|         Heart disease|         Basic|15055.95902|\n",
      "|  3|100|   yes|High blood pressure|                  None|         Basic| 16231.5286|\n",
      "|  4|100|   yes|               None|              Diabetes|      Standard| 17169.3328|\n",
      "|  5|100|   yes|           Diabetes|              Diabetes|      Standard|17207.14553|\n",
      "|  6|100|    no|           Diabetes|         Heart disease|      Standard|16206.20829|\n",
      "|  7|100|    no|               None|              Diabetes|       Premium|15603.15963|\n",
      "|  8|100|    no|High blood pressure|                  None|       Premium|17695.81009|\n",
      "|  9|100|   yes|      Heart disease|                  None|      Standard| 21845.7837|\n",
      "| 10|100|   yes|      Heart disease|   High blood pressure|       Premium|25514.98509|\n",
      "| 11|100|    no|               None|              Diabetes|      Standard|10824.69695|\n",
      "| 12|100|   yes|               None|              Diabetes|      Standard|18741.34383|\n",
      "| 13|100|    no|               None|   High blood pressure|       Premium|13500.25242|\n",
      "| 14|100|   yes|High blood pressure|              Diabetes|         Basic|14549.28011|\n",
      "| 15|100|   yes|           Diabetes|   High blood pressure|      Standard| 18272.6364|\n",
      "| 16|100|   yes|      Heart disease|         Heart disease|      Standard|25683.74399|\n",
      "| 17|100|   yes|           Diabetes|   High blood pressure|      Standard|18607.63532|\n",
      "| 18|100|    no|           Diabetes|         Heart disease|      Standard|18552.95117|\n",
      "| 19|100|   yes|           Diabetes|         Heart disease|         Basic|18004.73499|\n",
      "| 20|100|    no|      Heart disease|         Heart disease|         Basic|16476.04194|\n",
      "+---+---+------+-------------------+----------------------+--------------+-----------+\n",
      "only showing top 20 rows\n",
      "\n"
     ]
    }
   ],
   "source": [
    "df_srw = df_srw.drop('exercise_frequency')\n",
    "df_srw.show()"
   ]
  },
  {
   "cell_type": "code",
   "execution_count": 9,
   "id": "cf3be7e3",
   "metadata": {},
   "outputs": [],
   "source": [
    "#Convert the string type varibale into integer or float\n",
    "df_infor = df_infor.withColumn(\"age\", col(\"age\").cast(\"int\"))\n",
    "df_infor = df_infor.withColumn(\"children\", col(\"children\").cast(\"int\"))\n",
    "df_infor = df_infor.withColumn(\"charges\", col(\"charges\").cast(\"int\"))\n",
    "df_srw = df_srw.withColumn(\"bmi\", col(\"bmi\").cast(\"int\"))\n",
    "df_srw = df_srw.withColumn(\"charges\", col(\"charges\").cast(\"int\"))"
   ]
  },
  {
   "cell_type": "code",
   "execution_count": 10,
   "id": "9b3eeff8",
   "metadata": {},
   "outputs": [
    {
     "data": {
      "text/plain": [
       "[('ID', 'string'),\n",
       " ('age', 'int'),\n",
       " ('gender', 'string'),\n",
       " ('region', 'string'),\n",
       " ('occupation', 'string'),\n",
       " ('children', 'int'),\n",
       " ('charges', 'int')]"
      ]
     },
     "execution_count": 10,
     "metadata": {},
     "output_type": "execute_result"
    }
   ],
   "source": [
    "df_infor.dtypes\n"
   ]
  },
  {
   "cell_type": "code",
   "execution_count": 11,
   "id": "aa89ba96",
   "metadata": {},
   "outputs": [
    {
     "data": {
      "text/plain": [
       "[('ID', 'string'),\n",
       " ('bmi', 'int'),\n",
       " ('smoker', 'string'),\n",
       " ('medical_history', 'string'),\n",
       " ('family_medical_history', 'string'),\n",
       " ('coverage_level', 'string'),\n",
       " ('charges', 'int')]"
      ]
     },
     "execution_count": 11,
     "metadata": {},
     "output_type": "execute_result"
    }
   ],
   "source": [
    "df_srw.dtypes"
   ]
  },
  {
   "cell_type": "code",
   "execution_count": 12,
   "id": "9d7e954d",
   "metadata": {},
   "outputs": [],
   "source": [
    "df_srw = df_srw.na.drop('any')\n",
    "df_infor = df_infor.na.drop('any')"
   ]
  },
  {
   "cell_type": "code",
   "execution_count": 13,
   "id": "e340a4df",
   "metadata": {},
   "outputs": [
    {
     "name": "stderr",
     "output_type": "stream",
     "text": [
      "\r",
      "[Stage 19:>                                                         (0 + 2) / 2]\r",
      "\r",
      "[Stage 19:=============================>                            (1 + 1) / 2]\r"
     ]
    },
    {
     "name": "stdout",
     "output_type": "stream",
     "text": [
      "+---+---+------+---------------+----------------------+--------------+-------+\n",
      "| ID|bmi|smoker|medical_history|family_medical_history|coverage_level|charges|\n",
      "+---+---+------+---------------+----------------------+--------------+-------+\n",
      "|  0|  0|     0|          29783|                 30001|             0|      0|\n",
      "+---+---+------+---------------+----------------------+--------------+-------+\n",
      "\n"
     ]
    },
    {
     "name": "stderr",
     "output_type": "stream",
     "text": [
      "\r",
      "                                                                                \r"
     ]
    }
   ],
   "source": [
    "df_srw.select([count(when(col(c).contains('None')|col(c).contains('NULL')|(col(c)=='')|(col(c)=='NA')|\\\n",
    "              col(c).isNull()|isnan(c), c)).alias(c)for c in df_srw.columns]).show()"
   ]
  },
  {
   "cell_type": "code",
   "execution_count": 14,
   "id": "a65fe8de",
   "metadata": {},
   "outputs": [
    {
     "name": "stderr",
     "output_type": "stream",
     "text": [
      "[Stage 22:=============================>                            (1 + 1) / 2]\r"
     ]
    },
    {
     "name": "stdout",
     "output_type": "stream",
     "text": [
      "+---+---+------+------+----------+--------+-------+\n",
      "| ID|age|gender|region|occupation|children|charges|\n",
      "+---+---+------+------+----------+--------+-------+\n",
      "|  0|  0|     0|     0|         0|       0|      0|\n",
      "+---+---+------+------+----------+--------+-------+\n",
      "\n"
     ]
    },
    {
     "name": "stderr",
     "output_type": "stream",
     "text": [
      "\r",
      "                                                                                \r"
     ]
    }
   ],
   "source": [
    "df_infor.select([count(when(col(c).contains('None')|col(c).contains('NULL')|(col(c)=='')|(col(c)=='NA')|\\\n",
    "              col(c).isNull()|isnan(c), c)).alias(c)for c in df_infor.columns]).show()"
   ]
  },
  {
   "cell_type": "code",
   "execution_count": 15,
   "id": "784e1ccb",
   "metadata": {},
   "outputs": [],
   "source": [
    "#integrate two data set\n",
    "df_infor = df_infor.drop('charges')\n",
    "insurance_df = df_infor.join(df_srw,['ID'], how='inner').drop('ID')"
   ]
  },
  {
   "cell_type": "code",
   "execution_count": 16,
   "id": "fb2511e6",
   "metadata": {},
   "outputs": [
    {
     "data": {
      "text/plain": [
       "['age',\n",
       " 'gender',\n",
       " 'region',\n",
       " 'occupation',\n",
       " 'children',\n",
       " 'bmi',\n",
       " 'smoker',\n",
       " 'medical_history',\n",
       " 'family_medical_history',\n",
       " 'coverage_level',\n",
       " 'charges']"
      ]
     },
     "execution_count": 16,
     "metadata": {},
     "output_type": "execute_result"
    }
   ],
   "source": [
    "insurance_df.columns"
   ]
  },
  {
   "cell_type": "code",
   "execution_count": 17,
   "id": "a04ae9d2",
   "metadata": {},
   "outputs": [],
   "source": [
    "from pyspark.sql.functions import udf\n",
    "from pyspark.sql.types import StringType\n",
    "\n",
    "def create_new_feature(bmi, smoker, medical_history):\n",
    "    if bmi < 25 and smoker == 'no' and medical_history == 'None':\n",
    "        return '1'\n",
    "    else:\n",
    "        return '0'\n",
    "\n",
    "# Register the UDF with PySpark\n",
    "create_new_feature_udf = udf(create_new_feature, StringType())\n",
    "\n",
    "# Apply the UDF to create the new column\n",
    "merged_df = insurance_df.withColumn('Risk_Level', create_new_feature_udf(insurance_df['bmi'], insurance_df['smoker'], insurance_df['medical_history']))"
   ]
  },
  {
   "cell_type": "code",
   "execution_count": 18,
   "id": "49fc1e6e",
   "metadata": {},
   "outputs": [
    {
     "name": "stderr",
     "output_type": "stream",
     "text": [
      "                                                                                \r"
     ]
    }
   ],
   "source": [
    "from pyspark.sql import functions as F\n",
    "\n",
    "value_counts = merged_df.groupBy('Risk_Level').count().orderBy('Risk_Level')\n",
    "result = value_counts.collect()\n",
    "\n",
    "# Print the result\n"
   ]
  },
  {
   "cell_type": "code",
   "execution_count": 19,
   "id": "dd998fd7",
   "metadata": {},
   "outputs": [
    {
     "name": "stderr",
     "output_type": "stream",
     "text": [
      "                                                                                \r"
     ]
    }
   ],
   "source": [
    "#convert the data from characters into number\n",
    "gender = {'female':1,'male':0}\n",
    "smoker = {'yes':1, 'no':0}\n",
    "region = {'southeast':0, 'northwest':1, 'southwest':2, 'northeast':3}\n",
    "medical = {'Diabetes':1, 'None':0, 'High blood pressure':2, 'Heart disease':3}\n",
    "occupation = {'Blue collar':0, 'Unemployed':1, 'Student':2, 'White collar':3}\n",
    "coverage_level = {'Basic':0, 'Standard':1,'Premium':2}\n",
    "\n",
    "data = merged_df.rdd.map(lambda x: (gender[x.gender], region[x.region], occupation[x.occupation], smoker[x.smoker],\\\n",
    "                                   medical[x.medical_history], medical[x.family_medical_history],\\\n",
    "                                    coverage_level[x.coverage_level], x.age, x.bmi, x.children, x.Risk_Level, x.charges)).toDF(['gender', 'region','occupation', 'smoker', 'medical_history',\\\n",
    "                                                                          'family_medical_history', 'coverage_level','age','bmi', 'children', 'Risk_Level','charges'])"
   ]
  },
  {
   "cell_type": "code",
   "execution_count": 20,
   "id": "76c6675d",
   "metadata": {},
   "outputs": [
    {
     "name": "stderr",
     "output_type": "stream",
     "text": [
      "                                                                                \r"
     ]
    }
   ],
   "source": [
    "from pyspark.ml.feature import StringIndexer\n",
    "indexer = StringIndexer(inputCol='gender', outputCol='gender_I')\n",
    "data = indexer.fit(data).transform(data)"
   ]
  },
  {
   "cell_type": "code",
   "execution_count": 21,
   "id": "97e6d85b",
   "metadata": {},
   "outputs": [],
   "source": [
    "result_df = data.withColumn(\"Risk_Level\", col(\"Risk_Level\").cast(\"int\"))\n",
    "#result_df.dtypes\n",
    "\n",
    "result_df.columns\n",
    "r_df = result_df"
   ]
  },
  {
   "cell_type": "markdown",
   "id": "2ad99101",
   "metadata": {},
   "source": [
    "# 4. Data transformation"
   ]
  },
  {
   "cell_type": "code",
   "execution_count": 22,
   "id": "cf427958",
   "metadata": {},
   "outputs": [],
   "source": [
    "#feature selection\n",
    "from pyspark.ml.regression import LinearRegression\n",
    "from pyspark.ml.feature import VectorAssembler\n",
    "cols_name = ['gender_I','region','occupation','smoker','medical_history','family_medical_history','coverage_level','Risk_Level',\\\n",
    "                   'age', 'bmi', 'children']\n",
    "\n",
    "# Assemble the feature vector\n",
    "assembler = VectorAssembler(inputCols=cols_name, outputCol=\"features\")\n",
    "assembled_df = assembler.transform(result_df)"
   ]
  },
  {
   "cell_type": "code",
   "execution_count": 23,
   "id": "6c3a72e0",
   "metadata": {},
   "outputs": [
    {
     "name": "stderr",
     "output_type": "stream",
     "text": [
      "23/10/12 17:21:50 WARN Instrumentation: [f5389e29] regParam is zero, which might cause numerical instability and overfitting.\n",
      "23/10/12 17:21:51 WARN InstanceBuilder$NativeBLAS: Failed to load implementation from:dev.ludovic.netlib.blas.JNIBLAS\n",
      "23/10/12 17:21:51 WARN InstanceBuilder$NativeBLAS: Failed to load implementation from:dev.ludovic.netlib.blas.ForeignLinkerBLAS\n",
      "23/10/12 17:21:55 WARN InstanceBuilder$NativeLAPACK: Failed to load implementation from:dev.ludovic.netlib.lapack.JNILAPACK\n",
      "                                                                                \r"
     ]
    }
   ],
   "source": [
    "lasso = LinearRegression(\n",
    "    featuresCol=\"features\",\n",
    "    labelCol='charges', \n",
    "    elasticNetParam=1.0,       # This sets L1 regularization \n",
    ")\n",
    "\n",
    "lasso_model = lasso.fit(assembled_df)"
   ]
  },
  {
   "cell_type": "code",
   "execution_count": 24,
   "id": "0ca30f41",
   "metadata": {},
   "outputs": [
    {
     "name": "stdout",
     "output_type": "stream",
     "text": [
      "DataFrame[gender_I: double, region: bigint, occupation: bigint, smoker: bigint, medical_history: bigint, family_medical_history: bigint, coverage_level: bigint, age: bigint, bmi: bigint, children: bigint]\n"
     ]
    }
   ],
   "source": [
    "coefficients = lasso_model.coefficients\n",
    "threshold = 0.0  # Set your own threshold\n",
    "selected_feature_columns = [feature for i, feature in enumerate(cols_name) if coefficients[i] > threshold]\n",
    "selected_df = assembled_df.select(selected_feature_columns)\n",
    "\n",
    "print(selected_df)"
   ]
  },
  {
   "cell_type": "code",
   "execution_count": 25,
   "id": "da4fa03b",
   "metadata": {},
   "outputs": [
    {
     "name": "stderr",
     "output_type": "stream",
     "text": [
      "                                                                                \r"
     ]
    },
    {
     "name": "stdout",
     "output_type": "stream",
     "text": [
      "+--------+-----+\n",
      "|gender_I|count|\n",
      "+--------+-----+\n",
      "|     0.0|59369|\n",
      "|     1.0|59361|\n",
      "+--------+-----+\n",
      "\n"
     ]
    },
    {
     "name": "stderr",
     "output_type": "stream",
     "text": [
      "                                                                                \r"
     ]
    },
    {
     "name": "stdout",
     "output_type": "stream",
     "text": [
      "+------+-----+\n",
      "|region|count|\n",
      "+------+-----+\n",
      "|     0|29674|\n",
      "|     1|29345|\n",
      "|     2|29851|\n",
      "|     3|29860|\n",
      "+------+-----+\n",
      "\n"
     ]
    },
    {
     "name": "stderr",
     "output_type": "stream",
     "text": [
      "                                                                                \r"
     ]
    },
    {
     "name": "stdout",
     "output_type": "stream",
     "text": [
      "+----------+-----+\n",
      "|occupation|count|\n",
      "+----------+-----+\n",
      "|         0|29803|\n",
      "|         1|29634|\n",
      "|         2|29784|\n",
      "|         3|29509|\n",
      "+----------+-----+\n",
      "\n"
     ]
    },
    {
     "name": "stderr",
     "output_type": "stream",
     "text": [
      "[Stage 50:=============================>                            (1 + 1) / 2]\r"
     ]
    },
    {
     "name": "stdout",
     "output_type": "stream",
     "text": [
      "+------+-----+\n",
      "|smoker|count|\n",
      "+------+-----+\n",
      "|     0|59605|\n",
      "|     1|59125|\n",
      "+------+-----+\n",
      "\n"
     ]
    },
    {
     "name": "stderr",
     "output_type": "stream",
     "text": [
      "                                                                                \r"
     ]
    },
    {
     "name": "stdout",
     "output_type": "stream",
     "text": [
      "+---------------+-----+\n",
      "|medical_history|count|\n",
      "+---------------+-----+\n",
      "|              0|29689|\n",
      "|              1|29576|\n",
      "|              2|29662|\n",
      "|              3|29803|\n",
      "+---------------+-----+\n",
      "\n"
     ]
    },
    {
     "name": "stderr",
     "output_type": "stream",
     "text": [
      "                                                                                \r"
     ]
    },
    {
     "name": "stdout",
     "output_type": "stream",
     "text": [
      "+----------------------+-----+\n",
      "|family_medical_history|count|\n",
      "+----------------------+-----+\n",
      "|                     0|29916|\n",
      "|                     1|29626|\n",
      "|                     2|29538|\n",
      "|                     3|29650|\n",
      "+----------------------+-----+\n",
      "\n"
     ]
    },
    {
     "name": "stderr",
     "output_type": "stream",
     "text": [
      "                                                                                \r"
     ]
    },
    {
     "name": "stdout",
     "output_type": "stream",
     "text": [
      "+--------------+-----+\n",
      "|coverage_level|count|\n",
      "+--------------+-----+\n",
      "|             0|39589|\n",
      "|             1|39728|\n",
      "|             2|39413|\n",
      "+--------------+-----+\n",
      "\n"
     ]
    },
    {
     "name": "stderr",
     "output_type": "stream",
     "text": [
      "                                                                                \r"
     ]
    },
    {
     "name": "stdout",
     "output_type": "stream",
     "text": [
      "+----------+------+\n",
      "|Risk_Level| count|\n",
      "+----------+------+\n",
      "|         0|115564|\n",
      "|         1|  3166|\n",
      "+----------+------+\n",
      "\n"
     ]
    },
    {
     "name": "stderr",
     "output_type": "stream",
     "text": [
      "[Stage 65:=============================>                            (1 + 1) / 2]\r"
     ]
    },
    {
     "name": "stdout",
     "output_type": "stream",
     "text": [
      "+---+-----+\n",
      "|age|count|\n",
      "+---+-----+\n",
      "| 18| 2493|\n",
      "| 19| 2488|\n",
      "| 20| 2526|\n",
      "| 21| 2460|\n",
      "| 22| 2525|\n",
      "| 23| 2443|\n",
      "| 24| 2496|\n",
      "| 25| 2424|\n",
      "| 26| 2570|\n",
      "| 27| 2391|\n",
      "| 28| 2477|\n",
      "| 29| 2458|\n",
      "| 30| 2499|\n",
      "| 31| 2423|\n",
      "| 32| 2448|\n",
      "| 33| 2468|\n",
      "| 34| 2513|\n",
      "| 35| 2375|\n",
      "| 36| 2434|\n",
      "| 37| 2349|\n",
      "+---+-----+\n",
      "only showing top 20 rows\n",
      "\n"
     ]
    },
    {
     "name": "stderr",
     "output_type": "stream",
     "text": [
      "                                                                                \r"
     ]
    },
    {
     "name": "stdout",
     "output_type": "stream",
     "text": [
      "+---+-----+\n",
      "|bmi|count|\n",
      "+---+-----+\n",
      "| 18| 3633|\n",
      "| 19| 3716|\n",
      "| 20| 3596|\n",
      "| 21| 3576|\n",
      "| 22| 3565|\n",
      "| 23| 3511|\n",
      "| 24| 3737|\n",
      "| 25| 3648|\n",
      "| 26| 3562|\n",
      "| 27| 3644|\n",
      "| 28| 3706|\n",
      "| 29| 3619|\n",
      "| 30| 3648|\n",
      "| 31| 3604|\n",
      "| 32| 3741|\n",
      "| 33| 3568|\n",
      "| 34| 3617|\n",
      "| 35| 3767|\n",
      "| 36| 3675|\n",
      "| 37| 3719|\n",
      "+---+-----+\n",
      "only showing top 20 rows\n",
      "\n"
     ]
    },
    {
     "name": "stderr",
     "output_type": "stream",
     "text": [
      "[Stage 71:=============================>                            (1 + 1) / 2]\r"
     ]
    },
    {
     "name": "stdout",
     "output_type": "stream",
     "text": [
      "+--------+-----+\n",
      "|children|count|\n",
      "+--------+-----+\n",
      "|       0|19951|\n",
      "|       1|19955|\n",
      "|       2|19497|\n",
      "|       3|19761|\n",
      "|       4|19728|\n",
      "|       5|19838|\n",
      "+--------+-----+\n",
      "\n"
     ]
    },
    {
     "name": "stderr",
     "output_type": "stream",
     "text": [
      "\r",
      "                                                                                \r"
     ]
    }
   ],
   "source": [
    "#features balance\n",
    "for c in cols_name:\n",
    "    class_counts = result_df.groupBy(c).count().orderBy(c)\n",
    "    class_counts.show()"
   ]
  },
  {
   "cell_type": "code",
   "execution_count": 26,
   "id": "6d870d08",
   "metadata": {},
   "outputs": [
    {
     "name": "stdout",
     "output_type": "stream",
     "text": [
      "The imbalanced ratio for Risk level is 37\n"
     ]
    }
   ],
   "source": [
    "#imbalanced ratio\n",
    "a = round(115564/3166)\n",
    "\n",
    "print(\"The imbalanced ratio for Risk level is\", a)"
   ]
  },
  {
   "cell_type": "code",
   "execution_count": 27,
   "id": "9c7ba6d3",
   "metadata": {},
   "outputs": [
    {
     "name": "stderr",
     "output_type": "stream",
     "text": [
      "                                                                                \r"
     ]
    },
    {
     "name": "stdout",
     "output_type": "stream",
     "text": [
      "+----------+-----+\n",
      "|Risk_Level|count|\n",
      "+----------+-----+\n",
      "|         1| 3166|\n",
      "|         0| 3230|\n",
      "+----------+-----+\n",
      "\n"
     ]
    },
    {
     "name": "stderr",
     "output_type": "stream",
     "text": [
      "[Stage 83:===========================================>              (3 + 1) / 4]\r"
     ]
    },
    {
     "name": "stdout",
     "output_type": "stream",
     "text": [
      "Total instances in balanced dataset: 6396\n"
     ]
    },
    {
     "name": "stderr",
     "output_type": "stream",
     "text": [
      "\r",
      "                                                                                \r"
     ]
    }
   ],
   "source": [
    "#balance the model\n",
    "#input_features = result_df.drop('charges')\n",
    "input_features = result_df\n",
    "majority_class = input_features.filter(col(\"Risk_Level\") == 0)\n",
    "minority_class = input_features.filter(col(\"Risk_Level\") == 1)\n",
    "\n",
    "# Resample the majority class to match the minority class\n",
    "majority_count = majority_class.count()\n",
    "minority_count = minority_class.count()\n",
    "\n",
    "# Calculate the ratio for resampling\n",
    "resampling_ratio = minority_count / majority_count\n",
    "\n",
    "majority_downsampled = majority_class.sample(withReplacement=False, fraction=resampling_ratio, seed=42)\n",
    "\n",
    "# Combine the resampled majority class with the minority class\n",
    "balanced_df = minority_class.union(majority_downsampled)\n",
    "\n",
    "# Verify the balance\n",
    "balanced_category_counts = balanced_df.groupBy(\"Risk_Level\").count()\n",
    "\n",
    "# Show the counts for each category\n",
    "balanced_category_counts.show()\n",
    "\n",
    "print(\"Total instances in balanced dataset:\", balanced_df.count())"
   ]
  },
  {
   "cell_type": "code",
   "execution_count": 28,
   "id": "488e4f92",
   "metadata": {},
   "outputs": [
    {
     "name": "stderr",
     "output_type": "stream",
     "text": [
      "\r",
      "[Stage 86:>                                                         (0 + 1) / 1]\r"
     ]
    },
    {
     "name": "stdout",
     "output_type": "stream",
     "text": [
      "+------+------+----------+------+---------------+----------------------+--------------+---+---+--------+----------+-------+--------+\n",
      "|gender|region|occupation|smoker|medical_history|family_medical_history|coverage_level|age|bmi|children|Risk_Level|charges|gender_I|\n",
      "+------+------+----------+------+---------------+----------------------+--------------+---+---+--------+----------+-------+--------+\n",
      "|     0|     2|         3|     0|              0|                     0|             2| 37| 23|       1|         1|  13782|     1.0|\n",
      "|     1|     2|         1|     0|              0|                     0|             2| 21| 22|       0|         1|   8904|     0.0|\n",
      "|     1|     3|         3|     0|              0|                     3|             2| 21| 22|       2|         1|  16560|     0.0|\n",
      "|     1|     3|         3|     0|              0|                     3|             1| 58| 19|       0|         1|  15768|     0.0|\n",
      "|     1|     1|         1|     0|              0|                     3|             0| 42| 23|       5|         1|   9889|     0.0|\n",
      "|     0|     2|         3|     0|              0|                     2|             0| 41| 21|       4|         1|  11084|     1.0|\n",
      "|     0|     2|         1|     0|              0|                     1|             0| 23| 21|       1|         1|   6930|     1.0|\n",
      "|     1|     3|         3|     0|              0|                     1|             1| 25| 19|       2|         1|  10961|     0.0|\n",
      "|     1|     3|         0|     0|              0|                     0|             2| 43| 24|       3|         1|  12238|     0.0|\n",
      "|     1|     0|         2|     0|              0|                     2|             0| 34| 21|       4|         1|   7075|     0.0|\n",
      "|     0|     2|         2|     0|              0|                     2|             2| 55| 20|       2|         1|  12329|     1.0|\n",
      "|     0|     3|         3|     0|              0|                     1|             0| 59| 21|       5|         1|  11548|     1.0|\n",
      "|     1|     3|         2|     0|              0|                     1|             0| 54| 22|       3|         1|   8227|     0.0|\n",
      "|     1|     1|         1|     0|              0|                     0|             1| 20| 20|       1|         1|   5808|     0.0|\n",
      "|     1|     1|         1|     0|              0|                     2|             0| 56| 18|       0|         1|   6595|     0.0|\n",
      "|     0|     1|         2|     0|              0|                     2|             1| 61| 20|       3|         1|   9248|     1.0|\n",
      "|     1|     2|         2|     0|              0|                     1|             1| 21| 24|       3|         1|   9168|     0.0|\n",
      "|     1|     2|         3|     0|              0|                     3|             2| 53| 18|       1|         1|  18420|     0.0|\n",
      "|     1|     3|         2|     0|              0|                     2|             2| 38| 21|       3|         1|  11923|     0.0|\n",
      "|     0|     2|         3|     0|              0|                     0|             0| 51| 19|       0|         1|   7388|     1.0|\n",
      "+------+------+----------+------+---------------+----------------------+--------------+---+---+--------+----------+-------+--------+\n",
      "only showing top 20 rows\n",
      "\n"
     ]
    },
    {
     "name": "stderr",
     "output_type": "stream",
     "text": [
      "\r",
      "                                                                                \r"
     ]
    }
   ],
   "source": [
    "balanced_df.show()"
   ]
  },
  {
   "cell_type": "code",
   "execution_count": 75,
   "id": "ff66914e",
   "metadata": {},
   "outputs": [
    {
     "name": "stderr",
     "output_type": "stream",
     "text": [
      "\r",
      "[Stage 110:>                                                        (0 + 1) / 1]\r"
     ]
    },
    {
     "name": "stdout",
     "output_type": "stream",
     "text": [
      "+------+------+----------+------+---------------+----------------------+--------------+---+---+--------+----------+-------+--------+----------------+\n",
      "|gender|region|occupation|smoker|medical_history|family_medical_history|coverage_level|age|bmi|children|Risk_Level|charges|gender_I|charges_category|\n",
      "+------+------+----------+------+---------------+----------------------+--------------+---+---+--------+----------+-------+--------+----------------+\n",
      "|     0|     2|         3|     0|              0|                     0|             2| 37| 23|       1|         1|  13782|     1.0|               2|\n",
      "|     1|     2|         1|     0|              0|                     0|             2| 21| 22|       0|         1|   8904|     0.0|               2|\n",
      "|     1|     3|         3|     0|              0|                     3|             2| 21| 22|       2|         1|  16560|     0.0|               2|\n",
      "|     1|     3|         3|     0|              0|                     3|             1| 58| 19|       0|         1|  15768|     0.0|               2|\n",
      "|     1|     1|         1|     0|              0|                     3|             0| 42| 23|       5|         1|   9889|     0.0|               2|\n",
      "|     0|     2|         3|     0|              0|                     2|             0| 41| 21|       4|         1|  11084|     1.0|               2|\n",
      "|     0|     2|         1|     0|              0|                     1|             0| 23| 21|       1|         1|   6930|     1.0|               2|\n",
      "|     1|     3|         3|     0|              0|                     1|             1| 25| 19|       2|         1|  10961|     0.0|               2|\n",
      "|     1|     3|         0|     0|              0|                     0|             2| 43| 24|       3|         1|  12238|     0.0|               2|\n",
      "|     1|     0|         2|     0|              0|                     2|             0| 34| 21|       4|         1|   7075|     0.0|               2|\n",
      "|     0|     2|         2|     0|              0|                     2|             2| 55| 20|       2|         1|  12329|     1.0|               2|\n",
      "|     0|     3|         3|     0|              0|                     1|             0| 59| 21|       5|         1|  11548|     1.0|               2|\n",
      "|     1|     3|         2|     0|              0|                     1|             0| 54| 22|       3|         1|   8227|     0.0|               2|\n",
      "|     1|     1|         1|     0|              0|                     0|             1| 20| 20|       1|         1|   5808|     0.0|               2|\n",
      "|     1|     1|         1|     0|              0|                     2|             0| 56| 18|       0|         1|   6595|     0.0|               2|\n",
      "|     0|     1|         2|     0|              0|                     2|             1| 61| 20|       3|         1|   9248|     1.0|               2|\n",
      "|     1|     2|         2|     0|              0|                     1|             1| 21| 24|       3|         1|   9168|     0.0|               2|\n",
      "|     1|     2|         3|     0|              0|                     3|             2| 53| 18|       1|         1|  18420|     0.0|               2|\n",
      "|     1|     3|         2|     0|              0|                     2|             2| 38| 21|       3|         1|  11923|     0.0|               2|\n",
      "|     0|     2|         3|     0|              0|                     0|             0| 51| 19|       0|         1|   7388|     1.0|               2|\n",
      "+------+------+----------+------+---------------+----------------------+--------------+---+---+--------+----------+-------+--------+----------------+\n",
      "only showing top 20 rows\n",
      "\n"
     ]
    },
    {
     "name": "stderr",
     "output_type": "stream",
     "text": [
      "\r",
      "                                                                                \r"
     ]
    }
   ],
   "source": [
    "conditions = [\n",
    "    (balanced_df['charges'] >= 22856),\n",
    "    (balanced_df['charges'] < 22856)\n",
    "]\n",
    "\n",
    "# Define the corresponding categories\n",
    "categories = [1, 2]\n",
    "\n",
    "# Add a new column \"charges_category\" based on the conditions\n",
    "balanced_df = balanced_df.withColumn(\n",
    "    \"charges_category\",\n",
    "    when(conditions[0], categories[0])\n",
    "    .when(conditions[1], categories[1])\n",
    "    .otherwise(None)\n",
    ")\n",
    "\n",
    "# Show the resulting DataFrame\n",
    "balanced_df.show()"
   ]
  },
  {
   "cell_type": "code",
   "execution_count": 76,
   "id": "f45f390f",
   "metadata": {},
   "outputs": [],
   "source": [
    "from pyspark.ml.feature import VectorAssembler\n",
    "from pyspark.ml.classification import RandomForestClassifier\n",
    "from pyspark.ml import Pipeline\n",
    "from pyspark.ml.evaluation import MulticlassClassificationEvaluator"
   ]
  },
  {
   "cell_type": "code",
   "execution_count": 77,
   "id": "13d50c83",
   "metadata": {},
   "outputs": [
    {
     "data": {
      "text/plain": [
       "['gender',\n",
       " 'region',\n",
       " 'occupation',\n",
       " 'smoker',\n",
       " 'medical_history',\n",
       " 'family_medical_history',\n",
       " 'coverage_level',\n",
       " 'age',\n",
       " 'bmi',\n",
       " 'children',\n",
       " 'Risk_Level',\n",
       " 'charges',\n",
       " 'gender_I',\n",
       " 'charges_category']"
      ]
     },
     "execution_count": 77,
     "metadata": {},
     "output_type": "execute_result"
    }
   ],
   "source": [
    "balanced_df.columns"
   ]
  },
  {
   "cell_type": "code",
   "execution_count": 78,
   "id": "408ed85f",
   "metadata": {},
   "outputs": [],
   "source": [
    "assembler = VectorAssembler(\n",
    "  inputCols=['gender',\n",
    " 'region',\n",
    " 'occupation',\n",
    " 'smoker',\n",
    " 'medical_history',\n",
    " 'family_medical_history',\n",
    " 'coverage_level',\n",
    " 'age',\n",
    " 'bmi',\n",
    " 'children',\n",
    " 'Risk_Level',\n",
    " 'gender_I'],\n",
    "    outputCol=\"features\")"
   ]
  },
  {
   "cell_type": "code",
   "execution_count": 79,
   "id": "3f295c18",
   "metadata": {},
   "outputs": [],
   "source": [
    "output = assembler.transform(balanced_df)"
   ]
  },
  {
   "cell_type": "code",
   "execution_count": 80,
   "id": "fec31fcb",
   "metadata": {},
   "outputs": [],
   "source": [
    "# Split the training and testing set.\n",
    "train_data,test_data = output.randomSplit([0.8,0.2])"
   ]
  },
  {
   "cell_type": "code",
   "execution_count": 81,
   "id": "8f5bc101",
   "metadata": {},
   "outputs": [],
   "source": [
    "rfc = RandomForestClassifier(labelCol='charges_category',featuresCol='features')"
   ]
  },
  {
   "cell_type": "code",
   "execution_count": 82,
   "id": "619c9e7a",
   "metadata": {},
   "outputs": [
    {
     "name": "stderr",
     "output_type": "stream",
     "text": [
      "                                                                                \r"
     ]
    }
   ],
   "source": [
    "rfc_model = rfc.fit(train_data)"
   ]
  },
  {
   "cell_type": "code",
   "execution_count": 83,
   "id": "a408f033",
   "metadata": {},
   "outputs": [],
   "source": [
    "rfc_predictions = rfc_model.transform(test_data)"
   ]
  },
  {
   "cell_type": "code",
   "execution_count": 84,
   "id": "3d8ab90d",
   "metadata": {},
   "outputs": [],
   "source": [
    "# Let's import the evaluator.\n",
    "from pyspark.ml.evaluation import MulticlassClassificationEvaluator\n",
    "\n",
    "# Select (prediction, true label) and compute test error. \n",
    "acc_evaluator = MulticlassClassificationEvaluator(labelCol=\"charges_category\", predictionCol=\"prediction\", metricName=\"accuracy\")"
   ]
  },
  {
   "cell_type": "code",
   "execution_count": 85,
   "id": "38b4016c",
   "metadata": {},
   "outputs": [
    {
     "name": "stderr",
     "output_type": "stream",
     "text": [
      "                                                                                \r"
     ]
    }
   ],
   "source": [
    "rfc_acc = acc_evaluator.evaluate(rfc_predictions)"
   ]
  },
  {
   "cell_type": "code",
   "execution_count": 86,
   "id": "26195b62",
   "metadata": {},
   "outputs": [
    {
     "name": "stdout",
     "output_type": "stream",
     "text": [
      "A random forest ensemble has an accuracy of: 95.71%\n"
     ]
    }
   ],
   "source": [
    "print('A random forest ensemble has an accuracy of: {0:2.2f}%'.format(rfc_acc*100))"
   ]
  },
  {
   "cell_type": "code",
   "execution_count": 87,
   "id": "a455ff12",
   "metadata": {},
   "outputs": [
    {
     "data": {
      "text/plain": [
       "'RandomForestClassificationModel: uid=RandomForestClassifier_7a588a5dd5b3, numTrees=20, numClasses=3, numFeatures=12\\n  Tree 0 (weight 1.0):\\n    If (feature 5 <= 2.5)\\n     Predict: 2.0\\n    Else (feature 5 > 2.5)\\n     If (feature 10 <= 0.5)\\n      If (feature 2 <= 0.5)\\n       If (feature 3 <= 0.5)\\n        Predict: 2.0\\n       Else (feature 3 > 0.5)\\n        If (feature 6 <= 0.5)\\n         Predict: 2.0\\n        Else (feature 6 > 0.5)\\n         Predict: 1.0\\n      Else (feature 2 > 0.5)\\n       If (feature 4 <= 2.5)\\n        Predict: 2.0\\n       Else (feature 4 > 2.5)\\n        If (feature 6 <= 1.5)\\n         Predict: 2.0\\n        Else (feature 6 > 1.5)\\n         Predict: 1.0\\n     Else (feature 10 > 0.5)\\n      Predict: 2.0\\n  Tree 1 (weight 1.0):\\n    If (feature 4 <= 2.5)\\n     If (feature 3 <= 0.5)\\n      Predict: 2.0\\n     Else (feature 3 > 0.5)\\n      If (feature 5 <= 2.5)\\n       Predict: 2.0\\n      Else (feature 5 > 2.5)\\n       If (feature 4 <= 0.5)\\n        If (feature 6 <= 1.5)\\n         Predict: 2.0\\n        Else (feature 6 > 1.5)\\n         Predict: 1.0\\n       Else (feature 4 > 0.5)\\n        Predict: 2.0\\n    Else (feature 4 > 2.5)\\n     If (feature 5 <= 2.5)\\n      If (feature 6 <= 1.5)\\n       Predict: 2.0\\n      Else (feature 6 > 1.5)\\n       If (feature 3 <= 0.5)\\n        Predict: 2.0\\n       Else (feature 3 > 0.5)\\n        Predict: 1.0\\n     Else (feature 5 > 2.5)\\n      If (feature 9 <= 3.5)\\n       If (feature 3 <= 0.5)\\n        Predict: 2.0\\n       Else (feature 3 > 0.5)\\n        Predict: 1.0\\n      Else (feature 9 > 3.5)\\n       If (feature 6 <= 1.5)\\n        If (feature 3 <= 0.5)\\n         Predict: 2.0\\n        Else (feature 3 > 0.5)\\n         Predict: 1.0\\n       Else (feature 6 > 1.5)\\n        Predict: 1.0\\n  Tree 2 (weight 1.0):\\n    If (feature 5 <= 2.5)\\n     If (feature 8 <= 33.5)\\n      If (feature 4 <= 2.5)\\n       Predict: 2.0\\n      Else (feature 4 > 2.5)\\n       If (feature 6 <= 1.5)\\n        Predict: 2.0\\n       Else (feature 6 > 1.5)\\n        If (feature 0 <= 0.5)\\n         Predict: 1.0\\n        Else (feature 0 > 0.5)\\n         Predict: 2.0\\n     Else (feature 8 > 33.5)\\n      If (feature 4 <= 2.5)\\n       Predict: 2.0\\n      Else (feature 4 > 2.5)\\n       If (feature 3 <= 0.5)\\n        Predict: 2.0\\n       Else (feature 3 > 0.5)\\n        If (feature 6 <= 1.5)\\n         Predict: 2.0\\n        Else (feature 6 > 1.5)\\n         Predict: 1.0\\n    Else (feature 5 > 2.5)\\n     If (feature 6 <= 1.5)\\n      If (feature 3 <= 0.5)\\n       Predict: 2.0\\n      Else (feature 3 > 0.5)\\n       If (feature 9 <= 1.5)\\n        Predict: 2.0\\n       Else (feature 9 > 1.5)\\n        If (feature 4 <= 2.5)\\n         Predict: 2.0\\n        Else (feature 4 > 2.5)\\n         Predict: 1.0\\n     Else (feature 6 > 1.5)\\n      If (feature 3 <= 0.5)\\n       If (feature 4 <= 2.5)\\n        Predict: 2.0\\n       Else (feature 4 > 2.5)\\n        If (feature 9 <= 2.5)\\n         Predict: 2.0\\n        Else (feature 9 > 2.5)\\n         Predict: 1.0\\n      Else (feature 3 > 0.5)\\n       Predict: 1.0\\n  Tree 3 (weight 1.0):\\n    If (feature 4 <= 2.5)\\n     If (feature 3 <= 0.5)\\n      Predict: 2.0\\n     Else (feature 3 > 0.5)\\n      If (feature 6 <= 1.5)\\n       Predict: 2.0\\n      Else (feature 6 > 1.5)\\n       If (feature 8 <= 48.5)\\n        Predict: 2.0\\n       Else (feature 8 > 48.5)\\n        If (feature 5 <= 0.5)\\n         Predict: 2.0\\n        Else (feature 5 > 0.5)\\n         Predict: 1.0\\n    Else (feature 4 > 2.5)\\n     If (feature 3 <= 0.5)\\n      If (feature 7 <= 60.5)\\n       If (feature 5 <= 2.5)\\n        Predict: 2.0\\n       Else (feature 5 > 2.5)\\n        If (feature 6 <= 1.5)\\n         Predict: 2.0\\n        Else (feature 6 > 1.5)\\n         Predict: 1.0\\n      Else (feature 7 > 60.5)\\n       If (feature 1 <= 0.5)\\n        If (feature 5 <= 1.5)\\n         Predict: 2.0\\n        Else (feature 5 > 1.5)\\n         Predict: 1.0\\n       Else (feature 1 > 0.5)\\n        Predict: 2.0\\n     Else (feature 3 > 0.5)\\n      If (feature 0 <= 0.5)\\n       If (feature 6 <= 1.5)\\n        If (feature 8 <= 37.5)\\n         Predict: 2.0\\n        Else (feature 8 > 37.5)\\n         Predict: 1.0\\n       Else (feature 6 > 1.5)\\n        Predict: 1.0\\n      Else (feature 0 > 0.5)\\n       If (feature 6 <= 1.5)\\n        If (feature 8 <= 48.5)\\n         Predict: 2.0\\n        Else (feature 8 > 48.5)\\n         Predict: 1.0\\n       Else (feature 6 > 1.5)\\n        If (feature 8 <= 33.5)\\n         Predict: 2.0\\n        Else (feature 8 > 33.5)\\n         Predict: 1.0\\n  Tree 4 (weight 1.0):\\n    If (feature 4 <= 2.5)\\n     Predict: 2.0\\n    Else (feature 4 > 2.5)\\n     If (feature 11 in {0.0})\\n      If (feature 3 <= 0.5)\\n       Predict: 2.0\\n      Else (feature 3 > 0.5)\\n       If (feature 2 <= 2.5)\\n        If (feature 6 <= 1.5)\\n         Predict: 2.0\\n        Else (feature 6 > 1.5)\\n         Predict: 1.0\\n       Else (feature 2 > 2.5)\\n        If (feature 5 <= 2.5)\\n         Predict: 2.0\\n        Else (feature 5 > 2.5)\\n         Predict: 1.0\\n     Else (feature 11 not in {0.0})\\n      If (feature 6 <= 1.5)\\n       If (feature 7 <= 20.5)\\n        If (feature 7 <= 18.5)\\n         Predict: 2.0\\n        Else (feature 7 > 18.5)\\n         Predict: 1.0\\n       Else (feature 7 > 20.5)\\n        Predict: 2.0\\n      Else (feature 6 > 1.5)\\n       If (feature 2 <= 0.5)\\n        If (feature 8 <= 22.5)\\n         Predict: 2.0\\n        Else (feature 8 > 22.5)\\n         Predict: 1.0\\n       Else (feature 2 > 0.5)\\n        If (feature 5 <= 2.5)\\n         Predict: 2.0\\n        Else (feature 5 > 2.5)\\n         Predict: 1.0\\n  Tree 5 (weight 1.0):\\n    If (feature 4 <= 2.5)\\n     Predict: 2.0\\n    Else (feature 4 > 2.5)\\n     If (feature 7 <= 60.5)\\n      If (feature 3 <= 0.5)\\n       If (feature 7 <= 23.5)\\n        If (feature 9 <= 4.5)\\n         Predict: 2.0\\n        Else (feature 9 > 4.5)\\n         Predict: 1.0\\n       Else (feature 7 > 23.5)\\n        Predict: 2.0\\n      Else (feature 3 > 0.5)\\n       If (feature 6 <= 1.5)\\n        Predict: 2.0\\n       Else (feature 6 > 1.5)\\n        Predict: 1.0\\n     Else (feature 7 > 60.5)\\n      If (feature 6 <= 1.5)\\n       If (feature 1 <= 1.5)\\n        If (feature 5 <= 2.5)\\n         Predict: 2.0\\n        Else (feature 5 > 2.5)\\n         Predict: 1.0\\n       Else (feature 1 > 1.5)\\n        Predict: 2.0\\n      Else (feature 6 > 1.5)\\n       If (feature 8 <= 31.5)\\n        If (feature 8 <= 22.5)\\n         Predict: 1.0\\n        Else (feature 8 > 22.5)\\n         Predict: 2.0\\n       Else (feature 8 > 31.5)\\n        Predict: 1.0\\n  Tree 6 (weight 1.0):\\n    If (feature 4 <= 2.5)\\n     If (feature 3 <= 0.5)\\n      If (feature 7 <= 24.5)\\n       If (feature 7 <= 23.5)\\n        Predict: 2.0\\n       Else (feature 7 > 23.5)\\n        If (feature 8 <= 45.5)\\n         Predict: 2.0\\n        Else (feature 8 > 45.5)\\n         Predict: 1.0\\n      Else (feature 7 > 24.5)\\n       Predict: 2.0\\n     Else (feature 3 > 0.5)\\n      If (feature 1 <= 2.5)\\n       If (feature 7 <= 63.5)\\n        Predict: 2.0\\n       Else (feature 7 > 63.5)\\n        If (feature 5 <= 2.5)\\n         Predict: 2.0\\n        Else (feature 5 > 2.5)\\n         Predict: 1.0\\n      Else (feature 1 > 2.5)\\n       Predict: 2.0\\n    Else (feature 4 > 2.5)\\n     If (feature 3 <= 0.5)\\n      If (feature 2 <= 0.5)\\n       If (feature 7 <= 23.5)\\n        If (feature 8 <= 23.5)\\n         Predict: 2.0\\n        Else (feature 8 > 23.5)\\n         Predict: 1.0\\n       Else (feature 7 > 23.5)\\n        Predict: 2.0\\n      Else (feature 2 > 0.5)\\n       Predict: 2.0\\n     Else (feature 3 > 0.5)\\n      If (feature 6 <= 1.5)\\n       If (feature 5 <= 2.5)\\n        Predict: 2.0\\n       Else (feature 5 > 2.5)\\n        If (feature 8 <= 31.5)\\n         Predict: 2.0\\n        Else (feature 8 > 31.5)\\n         Predict: 1.0\\n      Else (feature 6 > 1.5)\\n       Predict: 1.0\\n  Tree 7 (weight 1.0):\\n    If (feature 3 <= 0.5)\\n     If (feature 8 <= 38.5)\\n      If (feature 4 <= 2.5)\\n       Predict: 2.0\\n      Else (feature 4 > 2.5)\\n       If (feature 5 <= 2.5)\\n        Predict: 2.0\\n       Else (feature 5 > 2.5)\\n        If (feature 7 <= 18.5)\\n         Predict: 1.0\\n        Else (feature 7 > 18.5)\\n         Predict: 2.0\\n     Else (feature 8 > 38.5)\\n      Predict: 2.0\\n    Else (feature 3 > 0.5)\\n     If (feature 9 <= 2.5)\\n      If (feature 4 <= 2.5)\\n       Predict: 2.0\\n      Else (feature 4 > 2.5)\\n       If (feature 2 <= 2.5)\\n        Predict: 2.0\\n       Else (feature 2 > 2.5)\\n        If (feature 5 <= 0.5)\\n         Predict: 2.0\\n        Else (feature 5 > 0.5)\\n         Predict: 1.0\\n     Else (feature 9 > 2.5)\\n      If (feature 6 <= 1.5)\\n       Predict: 2.0\\n      Else (feature 6 > 1.5)\\n       If (feature 4 <= 2.5)\\n        Predict: 2.0\\n       Else (feature 4 > 2.5)\\n        Predict: 1.0\\n  Tree 8 (weight 1.0):\\n    If (feature 6 <= 1.5)\\n     If (feature 3 <= 0.5)\\n      Predict: 2.0\\n     Else (feature 3 > 0.5)\\n      If (feature 7 <= 41.5)\\n       If (feature 8 <= 18.5)\\n        If (feature 7 <= 33.5)\\n         Predict: 2.0\\n        Else (feature 7 > 33.5)\\n         Predict: 1.0\\n       Else (feature 8 > 18.5)\\n        Predict: 2.0\\n      Else (feature 7 > 41.5)\\n       Predict: 2.0\\n    Else (feature 6 > 1.5)\\n     If (feature 5 <= 2.5)\\n      Predict: 2.0\\n     Else (feature 5 > 2.5)\\n      If (feature 9 <= 1.5)\\n       If (feature 3 <= 0.5)\\n        Predict: 2.0\\n       Else (feature 3 > 0.5)\\n        Predict: 1.0\\n      Else (feature 9 > 1.5)\\n       If (feature 4 <= 0.5)\\n        Predict: 2.0\\n       Else (feature 4 > 0.5)\\n        If (feature 3 <= 0.5)\\n         Predict: 2.0\\n        Else (feature 3 > 0.5)\\n         Predict: 1.0\\n  Tree 9 (weight 1.0):\\n    If (feature 3 <= 0.5)\\n     If (feature 8 <= 27.5)\\n      Predict: 2.0\\n     Else (feature 8 > 27.5)\\n      If (feature 2 <= 0.5)\\n       If (feature 7 <= 18.5)\\n        If (feature 6 <= 0.5)\\n         Predict: 2.0\\n        Else (feature 6 > 0.5)\\n         Predict: 1.0\\n       Else (feature 7 > 18.5)\\n        Predict: 2.0\\n      Else (feature 2 > 0.5)\\n       Predict: 2.0\\n    Else (feature 3 > 0.5)\\n     If (feature 4 <= 2.5)\\n      If (feature 2 <= 2.5)\\n       Predict: 2.0\\n      Else (feature 2 > 2.5)\\n       If (feature 5 <= 2.5)\\n        Predict: 2.0\\n       Else (feature 5 > 2.5)\\n        If (feature 6 <= 1.5)\\n         Predict: 2.0\\n        Else (feature 6 > 1.5)\\n         Predict: 1.0\\n     Else (feature 4 > 2.5)\\n      If (feature 5 <= 2.5)\\n       If (feature 7 <= 44.5)\\n        Predict: 2.0\\n       Else (feature 7 > 44.5)\\n        If (feature 7 <= 49.5)\\n         Predict: 1.0\\n        Else (feature 7 > 49.5)\\n         Predict: 2.0\\n      Else (feature 5 > 2.5)\\n       If (feature 11 in {0.0})\\n        If (feature 6 <= 0.5)\\n         Predict: 2.0\\n        Else (feature 6 > 0.5)\\n         Predict: 1.0\\n       Else (feature 11 not in {0.0})\\n        Predict: 1.0\\n  Tree 10 (weight 1.0):\\n    If (feature 4 <= 2.5)\\n     Predict: 2.0\\n    Else (feature 4 > 2.5)\\n     If (feature 3 <= 0.5)\\n      If (feature 0 <= 0.5)\\n       If (feature 6 <= 1.5)\\n        Predict: 2.0\\n       Else (feature 6 > 1.5)\\n        If (feature 7 <= 23.5)\\n         Predict: 1.0\\n        Else (feature 7 > 23.5)\\n         Predict: 2.0\\n      Else (feature 0 > 0.5)\\n       Predict: 2.0\\n     Else (feature 3 > 0.5)\\n      If (feature 9 <= 2.5)\\n       If (feature 6 <= 1.5)\\n        Predict: 2.0\\n       Else (feature 6 > 1.5)\\n        If (feature 8 <= 29.5)\\n         Predict: 2.0\\n        Else (feature 8 > 29.5)\\n         Predict: 1.0\\n      Else (feature 9 > 2.5)\\n       If (feature 5 <= 2.5)\\n        If (feature 7 <= 62.5)\\n         Predict: 2.0\\n        Else (feature 7 > 62.5)\\n         Predict: 1.0\\n       Else (feature 5 > 2.5)\\n        Predict: 1.0\\n  Tree 11 (weight 1.0):\\n    If (feature 4 <= 2.5)\\n     If (feature 3 <= 0.5)\\n      Predict: 2.0\\n     Else (feature 3 > 0.5)\\n      If (feature 6 <= 1.5)\\n       Predict: 2.0\\n      Else (feature 6 > 1.5)\\n       If (feature 5 <= 2.5)\\n        Predict: 2.0\\n       Else (feature 5 > 2.5)\\n        Predict: 1.0\\n    Else (feature 4 > 2.5)\\n     If (feature 5 <= 2.5)\\n      If (feature 0 <= 0.5)\\n       If (feature 1 <= 2.5)\\n        Predict: 2.0\\n       Else (feature 1 > 2.5)\\n        If (feature 7 <= 32.5)\\n         Predict: 2.0\\n        Else (feature 7 > 32.5)\\n         Predict: 1.0\\n      Else (feature 0 > 0.5)\\n       If (feature 5 <= 1.5)\\n        If (feature 7 <= 63.5)\\n         Predict: 2.0\\n        Else (feature 7 > 63.5)\\n         Predict: 1.0\\n       Else (feature 5 > 1.5)\\n        Predict: 2.0\\n     Else (feature 5 > 2.5)\\n      If (feature 6 <= 1.5)\\n       If (feature 6 <= 0.5)\\n        Predict: 2.0\\n       Else (feature 6 > 0.5)\\n        If (feature 1 <= 2.5)\\n         Predict: 1.0\\n        Else (feature 1 > 2.5)\\n         Predict: 2.0\\n      Else (feature 6 > 1.5)\\n       If (feature 8 <= 38.5)\\n        If (feature 3 <= 0.5)\\n         Predict: 2.0\\n        Else (feature 3 > 0.5)\\n         Predict: 1.0\\n       Else (feature 8 > 38.5)\\n        Predict: 1.0\\n  Tree 12 (weight 1.0):\\n    If (feature 10 <= 0.5)\\n     If (feature 5 <= 2.5)\\n      Predict: 2.0\\n     Else (feature 5 > 2.5)\\n      If (feature 6 <= 1.5)\\n       Predict: 2.0\\n      Else (feature 6 > 1.5)\\n       If (feature 4 <= 2.5)\\n        If (feature 9 <= 4.5)\\n         Predict: 2.0\\n        Else (feature 9 > 4.5)\\n         Predict: 1.0\\n       Else (feature 4 > 2.5)\\n        Predict: 1.0\\n    Else (feature 10 > 0.5)\\n     Predict: 2.0\\n  Tree 13 (weight 1.0):\\n    If (feature 3 <= 0.5)\\n     If (feature 5 <= 2.5)\\n      Predict: 2.0\\n     Else (feature 5 > 2.5)\\n      If (feature 4 <= 2.5)\\n       Predict: 2.0\\n      Else (feature 4 > 2.5)\\n       If (feature 1 <= 1.5)\\n        If (feature 6 <= 1.5)\\n         Predict: 2.0\\n        Else (feature 6 > 1.5)\\n         Predict: 1.0\\n       Else (feature 1 > 1.5)\\n        Predict: 2.0\\n    Else (feature 3 > 0.5)\\n     If (feature 6 <= 1.5)\\n      Predict: 2.0\\n     Else (feature 6 > 1.5)\\n      If (feature 4 <= 2.5)\\n       If (feature 5 <= 2.5)\\n        Predict: 2.0\\n       Else (feature 5 > 2.5)\\n        Predict: 1.0\\n      Else (feature 4 > 2.5)\\n       If (feature 1 <= 0.5)\\n        If (feature 7 <= 29.5)\\n         Predict: 2.0\\n        Else (feature 7 > 29.5)\\n         Predict: 1.0\\n       Else (feature 1 > 0.5)\\n        Predict: 1.0\\n  Tree 14 (weight 1.0):\\n    If (feature 10 <= 0.5)\\n     If (feature 4 <= 2.5)\\n      If (feature 6 <= 1.5)\\n       Predict: 2.0\\n      Else (feature 6 > 1.5)\\n       If (feature 7 <= 63.5)\\n        Predict: 2.0\\n       Else (feature 7 > 63.5)\\n        If (feature 2 <= 2.5)\\n         Predict: 2.0\\n        Else (feature 2 > 2.5)\\n         Predict: 1.0\\n     Else (feature 4 > 2.5)\\n      If (feature 0 <= 0.5)\\n       If (feature 6 <= 1.5)\\n        Predict: 2.0\\n       Else (feature 6 > 1.5)\\n        If (feature 3 <= 0.5)\\n         Predict: 2.0\\n        Else (feature 3 > 0.5)\\n         Predict: 1.0\\n      Else (feature 0 > 0.5)\\n       If (feature 7 <= 59.5)\\n        Predict: 2.0\\n       Else (feature 7 > 59.5)\\n        If (feature 6 <= 1.5)\\n         Predict: 2.0\\n        Else (feature 6 > 1.5)\\n         Predict: 1.0\\n    Else (feature 10 > 0.5)\\n     Predict: 2.0\\n  Tree 15 (weight 1.0):\\n    If (feature 4 <= 2.5)\\n     If (feature 5 <= 2.5)\\n      Predict: 2.0\\n     Else (feature 5 > 2.5)\\n      If (feature 3 <= 0.5)\\n       Predict: 2.0\\n      Else (feature 3 > 0.5)\\n       If (feature 9 <= 4.5)\\n        Predict: 2.0\\n       Else (feature 9 > 4.5)\\n        If (feature 2 <= 0.5)\\n         Predict: 1.0\\n        Else (feature 2 > 0.5)\\n         Predict: 2.0\\n    Else (feature 4 > 2.5)\\n     If (feature 3 <= 0.5)\\n      If (feature 2 <= 0.5)\\n       If (feature 8 <= 43.5)\\n        Predict: 2.0\\n       Else (feature 8 > 43.5)\\n        If (feature 6 <= 1.5)\\n         Predict: 2.0\\n        Else (feature 6 > 1.5)\\n         Predict: 1.0\\n      Else (feature 2 > 0.5)\\n       Predict: 2.0\\n     Else (feature 3 > 0.5)\\n      If (feature 6 <= 1.5)\\n       If (feature 9 <= 2.5)\\n        Predict: 2.0\\n       Else (feature 9 > 2.5)\\n        If (feature 5 <= 2.5)\\n         Predict: 2.0\\n        Else (feature 5 > 2.5)\\n         Predict: 1.0\\n      Else (feature 6 > 1.5)\\n       If (feature 5 <= 0.5)\\n        If (feature 11 in {0.0})\\n         Predict: 2.0\\n        Else (feature 11 not in {0.0})\\n         Predict: 1.0\\n       Else (feature 5 > 0.5)\\n        Predict: 1.0\\n  Tree 16 (weight 1.0):\\n    If (feature 4 <= 2.5)\\n     If (feature 3 <= 0.5)\\n      If (feature 2 <= 0.5)\\n       If (feature 7 <= 24.5)\\n        If (feature 8 <= 46.5)\\n         Predict: 2.0\\n        Else (feature 8 > 46.5)\\n         Predict: 1.0\\n       Else (feature 7 > 24.5)\\n        Predict: 2.0\\n      Else (feature 2 > 0.5)\\n       Predict: 2.0\\n     Else (feature 3 > 0.5)\\n      If (feature 2 <= 2.5)\\n       Predict: 2.0\\n      Else (feature 2 > 2.5)\\n       If (feature 6 <= 1.5)\\n        Predict: 2.0\\n       Else (feature 6 > 1.5)\\n        If (feature 4 <= 0.5)\\n         Predict: 2.0\\n        Else (feature 4 > 0.5)\\n         Predict: 1.0\\n    Else (feature 4 > 2.5)\\n     If (feature 3 <= 0.5)\\n      If (feature 7 <= 60.5)\\n       Predict: 2.0\\n      Else (feature 7 > 60.5)\\n       If (feature 9 <= 1.5)\\n        If (feature 1 <= 2.5)\\n         Predict: 1.0\\n        Else (feature 1 > 2.5)\\n         Predict: 2.0\\n       Else (feature 9 > 1.5)\\n        Predict: 2.0\\n     Else (feature 3 > 0.5)\\n      If (feature 6 <= 1.5)\\n       Predict: 2.0\\n      Else (feature 6 > 1.5)\\n       If (feature 7 <= 29.5)\\n        If (feature 8 <= 28.5)\\n         Predict: 2.0\\n        Else (feature 8 > 28.5)\\n         Predict: 1.0\\n       Else (feature 7 > 29.5)\\n        Predict: 1.0\\n  Tree 17 (weight 1.0):\\n    If (feature 3 <= 0.5)\\n     If (feature 4 <= 2.5)\\n      Predict: 2.0\\n     Else (feature 4 > 2.5)\\n      If (feature 7 <= 60.5)\\n       Predict: 2.0\\n      Else (feature 7 > 60.5)\\n       If (feature 5 <= 2.5)\\n        Predict: 2.0\\n       Else (feature 5 > 2.5)\\n        If (feature 11 in {0.0})\\n         Predict: 1.0\\n        Else (feature 11 not in {0.0})\\n         Predict: 2.0\\n    Else (feature 3 > 0.5)\\n     If (feature 0 <= 0.5)\\n      If (feature 6 <= 1.5)\\n       If (feature 4 <= 2.5)\\n        Predict: 2.0\\n       Else (feature 4 > 2.5)\\n        If (feature 2 <= 0.5)\\n         Predict: 1.0\\n        Else (feature 2 > 0.5)\\n         Predict: 2.0\\n      Else (feature 6 > 1.5)\\n       If (feature 5 <= 2.5)\\n        Predict: 2.0\\n       Else (feature 5 > 2.5)\\n        If (feature 7 <= 18.5)\\n         Predict: 2.0\\n        Else (feature 7 > 18.5)\\n         Predict: 1.0\\n     Else (feature 0 > 0.5)\\n      If (feature 6 <= 1.5)\\n       Predict: 2.0\\n      Else (feature 6 > 1.5)\\n       If (feature 9 <= 2.5)\\n        If (feature 8 <= 47.5)\\n         Predict: 2.0\\n        Else (feature 8 > 47.5)\\n         Predict: 1.0\\n       Else (feature 9 > 2.5)\\n        If (feature 5 <= 2.5)\\n         Predict: 2.0\\n        Else (feature 5 > 2.5)\\n         Predict: 1.0\\n  Tree 18 (weight 1.0):\\n    If (feature 3 <= 0.5)\\n     If (feature 4 <= 2.5)\\n      Predict: 2.0\\n     Else (feature 4 > 2.5)\\n      If (feature 6 <= 1.5)\\n       Predict: 2.0\\n      Else (feature 6 > 1.5)\\n       If (feature 9 <= 2.5)\\n        Predict: 2.0\\n       Else (feature 9 > 2.5)\\n        If (feature 5 <= 2.5)\\n         Predict: 2.0\\n        Else (feature 5 > 2.5)\\n         Predict: 1.0\\n    Else (feature 3 > 0.5)\\n     If (feature 5 <= 2.5)\\n      If (feature 4 <= 2.5)\\n       Predict: 2.0\\n      Else (feature 4 > 2.5)\\n       If (feature 0 <= 0.5)\\n        If (feature 5 <= 0.5)\\n         Predict: 2.0\\n        Else (feature 5 > 0.5)\\n         Predict: 1.0\\n       Else (feature 0 > 0.5)\\n        Predict: 2.0\\n     Else (feature 5 > 2.5)\\n      If (feature 6 <= 1.5)\\n       Predict: 2.0\\n      Else (feature 6 > 1.5)\\n       Predict: 1.0\\n  Tree 19 (weight 1.0):\\n    If (feature 10 <= 0.5)\\n     If (feature 3 <= 0.5)\\n      Predict: 2.0\\n     Else (feature 3 > 0.5)\\n      If (feature 5 <= 2.5)\\n       Predict: 2.0\\n      Else (feature 5 > 2.5)\\n       If (feature 4 <= 2.5)\\n        If (feature 6 <= 1.5)\\n         Predict: 2.0\\n        Else (feature 6 > 1.5)\\n         Predict: 1.0\\n       Else (feature 4 > 2.5)\\n        Predict: 1.0\\n    Else (feature 10 > 0.5)\\n     Predict: 2.0\\n'"
      ]
     },
     "execution_count": 87,
     "metadata": {},
     "output_type": "execute_result"
    }
   ],
   "source": [
    "rfc_model.toDebugString"
   ]
  },
  {
   "cell_type": "code",
   "execution_count": 92,
   "id": "ca6a8f90",
   "metadata": {},
   "outputs": [
    {
     "name": "stderr",
     "output_type": "stream",
     "text": [
      "                                                                                \r"
     ]
    },
    {
     "name": "stdout",
     "output_type": "stream",
     "text": [
      "A random forest ensemble has an accuracy of: 96.18%\n"
     ]
    },
    {
     "name": "stderr",
     "output_type": "stream",
     "text": [
      "                                                                                \r"
     ]
    },
    {
     "name": "stdout",
     "output_type": "stream",
     "text": [
      "A random forest ensemble has an accuracy of: 96.18%\n"
     ]
    },
    {
     "name": "stderr",
     "output_type": "stream",
     "text": [
      "                                                                                \r"
     ]
    },
    {
     "name": "stdout",
     "output_type": "stream",
     "text": [
      "A random forest ensemble has an accuracy of: 96.50%\n"
     ]
    },
    {
     "name": "stderr",
     "output_type": "stream",
     "text": [
      "[Stage 204:============================>                            (2 + 2) / 4]\r"
     ]
    },
    {
     "name": "stdout",
     "output_type": "stream",
     "text": [
      "A random forest ensemble has an accuracy of: 95.71%\n"
     ]
    },
    {
     "name": "stderr",
     "output_type": "stream",
     "text": [
      "\r",
      "                                                                                \r"
     ]
    }
   ],
   "source": [
    "a = [90, 80, 50, 20]\n",
    "for i in a:\n",
    "    rfc = RandomForestClassifier(labelCol='charges_category',featuresCol='features', numTrees = i)\n",
    "    rfc_model = rfc.fit(train_data)\n",
    "    rfc_predictions = rfc_model.transform(test_data)\n",
    "    acc_evaluator = MulticlassClassificationEvaluator(labelCol=\"charges_category\", predictionCol=\"prediction\", metricName=\"accuracy\")\n",
    "    rfc_acc = acc_evaluator.evaluate(rfc_predictions)\n",
    "    print('A random forest ensemble has an accuracy of: {0:2.2f}%'.format(rfc_acc*100))"
   ]
  },
  {
   "cell_type": "code",
   "execution_count": null,
   "id": "615a1782",
   "metadata": {},
   "outputs": [],
   "source": []
  }
 ],
 "metadata": {
  "kernelspec": {
   "display_name": "Python 3 (ipykernel)",
   "language": "python",
   "name": "python3"
  },
  "language_info": {
   "codemirror_mode": {
    "name": "ipython",
    "version": 3
   },
   "file_extension": ".py",
   "mimetype": "text/x-python",
   "name": "python",
   "nbconvert_exporter": "python",
   "pygments_lexer": "ipython3",
   "version": "3.10.4"
  }
 },
 "nbformat": 4,
 "nbformat_minor": 5
}
